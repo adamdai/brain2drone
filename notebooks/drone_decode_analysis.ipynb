{
 "cells": [
  {
   "cell_type": "code",
   "execution_count": null,
   "metadata": {},
   "outputs": [],
   "source": [
    "import numpy as np\n",
    "import matplotlib.pyplot as plt\n",
    "import plotly\n",
    "import plotly.graph_objects as go\n",
    "\n",
    "%load_ext autoreload\n",
    "%autoreload 2"
   ]
  },
  {
   "cell_type": "code",
   "execution_count": null,
   "metadata": {},
   "outputs": [],
   "source": [
    "decoded_data = np.load('decoded_data.npz')['decoded_data']\n",
    "target_poses = np.load('target_positions.npz')['target_positions']\n",
    "drone_poses = np.load('drone_positions.npz')['drone_positions']"
   ]
  },
  {
   "cell_type": "code",
   "execution_count": null,
   "metadata": {},
   "outputs": [],
   "source": [
    "decoded_data = decoded_data.reshape(-1, 4)"
   ]
  },
  {
   "cell_type": "code",
   "execution_count": null,
   "metadata": {},
   "outputs": [],
   "source": [
    "# Integrate decoded velocities to get position\n",
    "decoded_drone_poses = np.cumsum(decoded_data, axis=0)"
   ]
  },
  {
   "cell_type": "code",
   "execution_count": null,
   "metadata": {},
   "outputs": [],
   "source": [
    "decoded_drone_poses = decoded_drone_poses * (20 / 1000)  # 20 ms timestep"
   ]
  },
  {
   "cell_type": "code",
   "execution_count": null,
   "metadata": {},
   "outputs": [],
   "source": [
    "# Plot decoded drone poses over time\n",
    "fig = go.Figure()\n",
    "fig.add_trace(go.Scatter3d(x=decoded_drone_poses[:,0], y=decoded_drone_poses[:,1], z=decoded_drone_poses[:,2], mode='lines', name='Drone'))\n",
    "fig.add_trace(go.Scatter3d(x=target_poses[:,0], y=target_poses[:,1], z=target_poses[:,2], mode='lines', name='Target'))\n",
    "fig.update_layout(scene = dict(\n",
    "                    xaxis_title='X',\n",
    "                    yaxis_title='Y',\n",
    "                    zaxis_title='Z'),\n",
    "                    width=700,\n",
    "                    margin=dict(r=20, l=10, b=10, t=10))\n",
    "fig.show()"
   ]
  },
  {
   "cell_type": "code",
   "execution_count": null,
   "metadata": {},
   "outputs": [],
   "source": [
    "# Plot drone poses over time\n",
    "fig = go.Figure()\n",
    "fig.add_trace(go.Scatter3d(x=drone_poses[:,0], y=drone_poses[:,1], z=drone_poses[:,2], mode='lines', name='Drone'))\n",
    "fig.add_trace(go.Scatter3d(x=target_poses[:,0], y=target_poses[:,1], z=target_poses[:,2], mode='lines', name='Target'))\n",
    "fig.update_layout(scene = dict(\n",
    "                    xaxis_title='X',\n",
    "                    yaxis_title='Y',\n",
    "                    zaxis_title='Z'),\n",
    "                    width=700,\n",
    "                    margin=dict(r=20, l=10, b=10, t=10))\n",
    "fig.show()"
   ]
  },
  {
   "cell_type": "code",
   "execution_count": null,
   "metadata": {},
   "outputs": [],
   "source": [
    "decoded_data.reshape(-1, 4)"
   ]
  },
  {
   "cell_type": "code",
   "execution_count": null,
   "metadata": {},
   "outputs": [],
   "source": [
    "target_positions = target_poses[:,:3]\n",
    "targets_unique = np.unique(target_positions, axis=0)"
   ]
  },
  {
   "cell_type": "code",
   "execution_count": null,
   "metadata": {},
   "outputs": [],
   "source": [
    "# 3D Scatter plot of target positions in plotly\n",
    "import plotly.graph_objects as go\n",
    "\n",
    "fig = go.Figure(data=[go.Scatter3d(\n",
    "    x=targets_unique[:,0],\n",
    "    y=targets_unique[:,1],\n",
    "    z=targets_unique[:,2],\n",
    "    mode='markers',\n",
    "    marker=dict(\n",
    "        size=12,\n",
    "        color=target_positions[:,2],                # set color to an array/list of desired values\n",
    "        colorscale='Viridis',   # choose a colorscale\n",
    "        opacity=0.8\n",
    "    )\n",
    ")])\n",
    "fig.show()"
   ]
  },
  {
   "cell_type": "code",
   "execution_count": null,
   "metadata": {},
   "outputs": [],
   "source": []
  }
 ],
 "metadata": {
  "kernelspec": {
   "display_name": "multirtd",
   "language": "python",
   "name": "python3"
  },
  "language_info": {
   "codemirror_mode": {
    "name": "ipython",
    "version": 3
   },
   "file_extension": ".py",
   "mimetype": "text/x-python",
   "name": "python",
   "nbconvert_exporter": "python",
   "pygments_lexer": "ipython3",
   "version": "3.9.16"
  },
  "orig_nbformat": 4
 },
 "nbformat": 4,
 "nbformat_minor": 2
}
