{
 "cells": [
  {
   "cell_type": "code",
   "execution_count": null,
   "metadata": {},
   "outputs": [],
   "source": [
    "import numpy as np\n",
    "import plotly.graph_objects as go\n",
    "import matplotlib.pyplot as plt"
   ]
  },
  {
   "cell_type": "code",
   "execution_count": null,
   "metadata": {},
   "outputs": [],
   "source": [
    "# Gate locations in Unreal Coordinates\n",
    "# (units in cm, )\n",
    "drone_start = np.array([3150.0, -150.0, 262.0])\n",
    "gate_centers = np.array([[5110.0, -210.0, 910.0],\n",
    "                         [6660.0, -2160.0, 1010.0],\n",
    "                         [8160.0, -3480.0, 1430.0],\n",
    "                         [9460.0, -3740.0, 1630.0],\n",
    "                         [12522.16, -2848.98, 2617.89],\n",
    "                         [13695.33, -888.54, 2112.87],\n",
    "                         [13245.33, 1971.46, 1532.87],\n",
    "                         [10645.33, 3231.46, 1532.87],\n",
    "                         [7975.33, 2791.46, 1832.87]])"
   ]
  },
  {
   "cell_type": "code",
   "execution_count": null,
   "metadata": {},
   "outputs": [],
   "source": [
    "# Plot gate centers\n",
    "fig = go.Figure(data=[go.Scatter3d(x=gate_centers[:, 1], y=gate_centers[:, 0], z=gate_centers[:, 2],\n",
    "                                   mode='markers', marker=dict(size=10, color='red'))])\n",
    "fig.update_layout(scene_aspectmode='data')\n",
    "fig.update_layout(width=1200, height=800)\n",
    "fig.show()"
   ]
  },
  {
   "cell_type": "code",
   "execution_count": null,
   "metadata": {},
   "outputs": [],
   "source": [
    "def minimum_jerk_trajectory(init_pos, target_pos, total_time=0.5, dt=0.01):\n",
    "    xi = init_pos\n",
    "    xf = target_pos\n",
    "    d = total_time\n",
    "    list_t = []\n",
    "    list_x = []\n",
    "    t = 0\n",
    "    while t < d:\n",
    "        x = xi + (xf-xi) * (10*(t/d)**3 - 15*(t/d)**4 + 6*(t/d)**5)\n",
    "        list_t.append(t)\n",
    "        list_x.append(x)\n",
    "        t += dt\n",
    "    return np.array(list_t), np.array(list_x)"
   ]
  },
  {
   "cell_type": "code",
   "execution_count": null,
   "metadata": {},
   "outputs": [],
   "source": [
    "print(\"Minimum Jerk Trajectory Generator\")\n",
    "# This is initial position of servo motor\n",
    "init_pos = np.array([np.radians(0), np.radians(30), np.radians(20), np.radians(50)])\n",
    "# This is target position of servo motor\n",
    "target_pos = np.array([np.radians(50), np.radians(0), np.radians(50), np.radians(-20)])\n",
    "# We want to move all joint from initial to target position in 1 seconds\n",
    "t, x = minimum_jerk_trajectory(init_pos, target_pos, total_time=1.0)\n",
    "# Show the result\n",
    "fig, ax = plt.subplots()\n",
    "ax.plot(t, x)\n",
    "ax.set_title(\"Minimum Jerk Trajectory\")\n",
    "ax.set_xlabel(\"Time\")\n",
    "ax.set_ylabel(\"Position\")\n",
    "plt.show()"
   ]
  },
  {
   "cell_type": "code",
   "execution_count": null,
   "metadata": {},
   "outputs": [],
   "source": [
    "init_pos = gate_centers[0]\n",
    "target_pos = gate_centers[1]\n",
    "t, x = minimum_jerk_trajectory(init_pos, target_pos, total_time=1.0)\n",
    "fig, ax = plt.subplots()\n",
    "ax.plot(t, x)\n",
    "ax.set_title(\"Minimum Jerk Trajectory\")\n",
    "ax.set_xlabel(\"Time\")\n",
    "ax.set_ylabel(\"Position\")\n",
    "plt.show()"
   ]
  },
  {
   "cell_type": "code",
   "execution_count": null,
   "metadata": {},
   "outputs": [],
   "source": [
    "traj = []\n",
    "for i in range(len(gate_centers)-1):\n",
    "    init_pos = gate_centers[i]\n",
    "    target_pos = gate_centers[i+1]\n",
    "    t, x = minimum_jerk_trajectory(init_pos, target_pos, total_time=1.0)\n",
    "    traj.append(x)"
   ]
  },
  {
   "cell_type": "code",
   "execution_count": null,
   "metadata": {},
   "outputs": [],
   "source": [
    "traj = np.array(traj).reshape(-1, 3)\n",
    "# Plot trajectory\n",
    "fig = go.Figure(data=[go.Scatter3d(x=gate_centers[:, 1], y=gate_centers[:, 0], z=gate_centers[:, 2],\n",
    "                                   mode='markers', marker=dict(size=10, color='red'))])\n",
    "fig.add_trace(go.Scatter3d(x=traj[:, 1], y=traj[:, 0], z=traj[:, 2],\n",
    "                                   mode='markers', marker=dict(size=3, color='blue')))\n",
    "fig.update_layout(scene_aspectmode='data')\n",
    "fig.update_layout(width=1200, height=800)\n",
    "fig.show()"
   ]
  },
  {
   "cell_type": "code",
   "execution_count": null,
   "metadata": {},
   "outputs": [],
   "source": []
  }
 ],
 "metadata": {
  "kernelspec": {
   "display_name": "multirtd",
   "language": "python",
   "name": "python3"
  },
  "language_info": {
   "codemirror_mode": {
    "name": "ipython",
    "version": 3
   },
   "file_extension": ".py",
   "mimetype": "text/x-python",
   "name": "python",
   "nbconvert_exporter": "python",
   "pygments_lexer": "ipython3",
   "version": "3.9.17"
  }
 },
 "nbformat": 4,
 "nbformat_minor": 2
}
